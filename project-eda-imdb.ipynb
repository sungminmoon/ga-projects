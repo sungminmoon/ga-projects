{
 "cells": [
  {
   "cell_type": "markdown",
   "metadata": {},
   "source": [
    "<img src=\"http://imgur.com/1ZcRyrc.png\" style=\"float: left; margin: 20px; height: 55px\">\n",
    "\n",
    "# Project 2: Analyzing IMDb Data\n",
    "\n",
    "_Author: Kevin Markham (DC)_\n",
    "\n",
    "---"
   ]
  },
  {
   "cell_type": "markdown",
   "metadata": {},
   "source": [
    "For project two, you will complete a serious of exercises exploring movie rating data from IMDb.\n",
    "\n",
    "For these exercises, you will be conducting basic exploratory data analysis on IMDB's movie data, looking to answer such questions as:\n",
    "\n",
    "What is the average rating per genre?\n",
    "How many different actors are in a movie?\n",
    "\n",
    "This process will help you practice your data analysis skills while becoming comfortable with Pandas."
   ]
  },
  {
   "cell_type": "markdown",
   "metadata": {},
   "source": [
    "## Basic level"
   ]
  },
  {
   "cell_type": "code",
   "execution_count": 1,
   "metadata": {
    "collapsed": true
   },
   "outputs": [],
   "source": [
    "import pandas as pd\n",
    "import matplotlib.pyplot as plt\n",
    "%matplotlib inline"
   ]
  },
  {
   "cell_type": "markdown",
   "metadata": {},
   "source": [
    "#### Read in 'imdb_1000.csv' and store it in a DataFrame named movies."
   ]
  },
  {
   "cell_type": "code",
   "execution_count": 2,
   "metadata": {},
   "outputs": [
    {
     "data": {
      "text/html": [
       "<div>\n",
       "<style scoped>\n",
       "    .dataframe tbody tr th:only-of-type {\n",
       "        vertical-align: middle;\n",
       "    }\n",
       "\n",
       "    .dataframe tbody tr th {\n",
       "        vertical-align: top;\n",
       "    }\n",
       "\n",
       "    .dataframe thead th {\n",
       "        text-align: right;\n",
       "    }\n",
       "</style>\n",
       "<table border=\"1\" class=\"dataframe\">\n",
       "  <thead>\n",
       "    <tr style=\"text-align: right;\">\n",
       "      <th></th>\n",
       "      <th>star_rating</th>\n",
       "      <th>title</th>\n",
       "      <th>content_rating</th>\n",
       "      <th>genre</th>\n",
       "      <th>duration</th>\n",
       "      <th>actors_list</th>\n",
       "    </tr>\n",
       "  </thead>\n",
       "  <tbody>\n",
       "    <tr>\n",
       "      <th>0</th>\n",
       "      <td>9.3</td>\n",
       "      <td>The Shawshank Redemption</td>\n",
       "      <td>R</td>\n",
       "      <td>Crime</td>\n",
       "      <td>142</td>\n",
       "      <td>[u'Tim Robbins', u'Morgan Freeman', u'Bob Gunt...</td>\n",
       "    </tr>\n",
       "    <tr>\n",
       "      <th>1</th>\n",
       "      <td>9.2</td>\n",
       "      <td>The Godfather</td>\n",
       "      <td>R</td>\n",
       "      <td>Crime</td>\n",
       "      <td>175</td>\n",
       "      <td>[u'Marlon Brando', u'Al Pacino', u'James Caan']</td>\n",
       "    </tr>\n",
       "    <tr>\n",
       "      <th>2</th>\n",
       "      <td>9.1</td>\n",
       "      <td>The Godfather: Part II</td>\n",
       "      <td>R</td>\n",
       "      <td>Crime</td>\n",
       "      <td>200</td>\n",
       "      <td>[u'Al Pacino', u'Robert De Niro', u'Robert Duv...</td>\n",
       "    </tr>\n",
       "    <tr>\n",
       "      <th>3</th>\n",
       "      <td>9.0</td>\n",
       "      <td>The Dark Knight</td>\n",
       "      <td>PG-13</td>\n",
       "      <td>Action</td>\n",
       "      <td>152</td>\n",
       "      <td>[u'Christian Bale', u'Heath Ledger', u'Aaron E...</td>\n",
       "    </tr>\n",
       "    <tr>\n",
       "      <th>4</th>\n",
       "      <td>8.9</td>\n",
       "      <td>Pulp Fiction</td>\n",
       "      <td>R</td>\n",
       "      <td>Crime</td>\n",
       "      <td>154</td>\n",
       "      <td>[u'John Travolta', u'Uma Thurman', u'Samuel L....</td>\n",
       "    </tr>\n",
       "  </tbody>\n",
       "</table>\n",
       "</div>"
      ],
      "text/plain": [
       "   star_rating                     title content_rating   genre  duration  \\\n",
       "0          9.3  The Shawshank Redemption              R   Crime       142   \n",
       "1          9.2             The Godfather              R   Crime       175   \n",
       "2          9.1    The Godfather: Part II              R   Crime       200   \n",
       "3          9.0           The Dark Knight          PG-13  Action       152   \n",
       "4          8.9              Pulp Fiction              R   Crime       154   \n",
       "\n",
       "                                         actors_list  \n",
       "0  [u'Tim Robbins', u'Morgan Freeman', u'Bob Gunt...  \n",
       "1    [u'Marlon Brando', u'Al Pacino', u'James Caan']  \n",
       "2  [u'Al Pacino', u'Robert De Niro', u'Robert Duv...  \n",
       "3  [u'Christian Bale', u'Heath Ledger', u'Aaron E...  \n",
       "4  [u'John Travolta', u'Uma Thurman', u'Samuel L....  "
      ]
     },
     "execution_count": 2,
     "metadata": {},
     "output_type": "execute_result"
    }
   ],
   "source": [
    "movies = pd.read_csv('./data/imdb_1000.csv')\n",
    "movies.head()"
   ]
  },
  {
   "cell_type": "markdown",
   "metadata": {},
   "source": [
    "#### Check the number of rows and columns."
   ]
  },
  {
   "cell_type": "code",
   "execution_count": 3,
   "metadata": {},
   "outputs": [
    {
     "name": "stdout",
     "output_type": "stream",
     "text": [
      "<class 'pandas.core.frame.DataFrame'>\n",
      "RangeIndex: 979 entries, 0 to 978\n",
      "Data columns (total 6 columns):\n",
      "star_rating       979 non-null float64\n",
      "title             979 non-null object\n",
      "content_rating    976 non-null object\n",
      "genre             979 non-null object\n",
      "duration          979 non-null int64\n",
      "actors_list       979 non-null object\n",
      "dtypes: float64(1), int64(1), object(4)\n",
      "memory usage: 46.0+ KB\n"
     ]
    }
   ],
   "source": [
    "movies.info()"
   ]
  },
  {
   "cell_type": "code",
   "execution_count": 4,
   "metadata": {},
   "outputs": [
    {
     "data": {
      "text/plain": [
       "(979, 6)"
      ]
     },
     "execution_count": 4,
     "metadata": {},
     "output_type": "execute_result"
    }
   ],
   "source": [
    "# Answer:\n",
    "movies.shape"
   ]
  },
  {
   "cell_type": "markdown",
   "metadata": {},
   "source": [
    "#### Check the data type of each column."
   ]
  },
  {
   "cell_type": "code",
   "execution_count": 5,
   "metadata": {
    "collapsed": true
   },
   "outputs": [
    {
     "data": {
      "text/plain": [
       "star_rating       float64\n",
       "title              object\n",
       "content_rating     object\n",
       "genre              object\n",
       "duration            int64\n",
       "actors_list        object\n",
       "dtype: object"
      ]
     },
     "execution_count": 5,
     "metadata": {},
     "output_type": "execute_result"
    }
   ],
   "source": [
    "# Answer:\n",
    "movies.dtypes"
   ]
  },
  {
   "cell_type": "markdown",
   "metadata": {},
   "source": [
    "#### Calculate the average movie duration."
   ]
  },
  {
   "cell_type": "code",
   "execution_count": 6,
   "metadata": {
    "collapsed": true
   },
   "outputs": [
    {
     "data": {
      "text/plain": [
       "120.97957099080695"
      ]
     },
     "execution_count": 6,
     "metadata": {},
     "output_type": "execute_result"
    }
   ],
   "source": [
    "# Answer:\n",
    "movies.duration.mean()"
   ]
  },
  {
   "cell_type": "markdown",
   "metadata": {},
   "source": [
    "#### Sort the DataFrame by duration to find the shortest and longest movies."
   ]
  },
  {
   "cell_type": "code",
   "execution_count": 7,
   "metadata": {
    "collapsed": true
   },
   "outputs": [
    {
     "data": {
      "text/plain": [
       "389    64\n",
       "338    66\n",
       "258    67\n",
       "293    68\n",
       "88     68\n",
       "Name: duration, dtype: int64"
      ]
     },
     "execution_count": 7,
     "metadata": {},
     "output_type": "execute_result"
    }
   ],
   "source": [
    "# Answer:\n",
    "movies.duration.sort_values().head()"
   ]
  },
  {
   "cell_type": "code",
   "execution_count": 8,
   "metadata": {},
   "outputs": [
    {
     "data": {
      "text/plain": [
       "star_rating                                                       8\n",
       "title                                                        Freaks\n",
       "content_rating                                              UNRATED\n",
       "genre                                                         Drama\n",
       "duration                                                         64\n",
       "actors_list       [u'Wallace Ford', u'Leila Hyams', u'Olga Bacla...\n",
       "Name: 389, dtype: object"
      ]
     },
     "execution_count": 8,
     "metadata": {},
     "output_type": "execute_result"
    }
   ],
   "source": [
    "# shortest is the 389: Freaks\n",
    "movies.loc[389]"
   ]
  },
  {
   "cell_type": "code",
   "execution_count": 9,
   "metadata": {},
   "outputs": [
    {
     "data": {
      "text/plain": [
       "476    242\n",
       "Name: duration, dtype: int64"
      ]
     },
     "execution_count": 9,
     "metadata": {},
     "output_type": "execute_result"
    }
   ],
   "source": [
    "# highest to lower\n",
    "movies.duration.sort_values(ascending = False).head(1)"
   ]
  },
  {
   "cell_type": "code",
   "execution_count": 10,
   "metadata": {},
   "outputs": [
    {
     "data": {
      "text/plain": [
       "star_rating                                                     7.8\n",
       "title                                                        Hamlet\n",
       "content_rating                                                PG-13\n",
       "genre                                                         Drama\n",
       "duration                                                        242\n",
       "actors_list       [u'Kenneth Branagh', u'Julie Christie', u'Dere...\n",
       "Name: 476, dtype: object"
      ]
     },
     "execution_count": 10,
     "metadata": {},
     "output_type": "execute_result"
    }
   ],
   "source": [
    "# longest is the 476: Hamlet\n",
    "movies.loc[476]"
   ]
  },
  {
   "cell_type": "markdown",
   "metadata": {},
   "source": [
    "#### Create a histogram of duration, choosing an \"appropriate\" number of bins."
   ]
  },
  {
   "cell_type": "code",
   "execution_count": 11,
   "metadata": {
    "collapsed": true
   },
   "outputs": [
    {
     "data": {
      "text/plain": [
       "Text(0.5,1,'duration')"
      ]
     },
     "execution_count": 11,
     "metadata": {},
     "output_type": "execute_result"
    },
    {
     "data": {
      "image/png": "[encoded data removed]",
      "text/plain": [
       "<Figure size 720x720 with 1 Axes>"
      ]
     },
     "metadata": {
      "needs_background": "light"
     },
     "output_type": "display_data"
    }
   ],
   "source": [
    "# Answer:\n",
    "movies.duration.sort_values().plot(kind='hist',bins=20, figsize=(10,10));\n",
    "plt.xlabel('numbers')\n",
    "plt.ylabel('duration')\n",
    "plt.title('duration')"
   ]
  },
  {
   "cell_type": "markdown",
   "metadata": {},
   "source": [
    "#### Use a box plot to display that same data."
   ]
  },
  {
   "cell_type": "code",
   "execution_count": 12,
   "metadata": {
    "collapsed": true
   },
   "outputs": [],
   "source": [
    "# Answer:\n",
    "import seaborn as sns\n"
   ]
  },
  {
   "cell_type": "code",
   "execution_count": 13,
   "metadata": {},
   "outputs": [
    {
     "data": {
      "text/plain": [
       "<matplotlib.axes._subplots.AxesSubplot at 0x21cf6689048>"
      ]
     },
     "execution_count": 13,
     "metadata": {},
     "output_type": "execute_result"
    },
    {
     "data": {
      "image/png": "[encoded data removed]",
      "text/plain": [
       "<Figure size 432x288 with 1 Axes>"
      ]
     },
     "metadata": {
      "needs_background": "light"
     },
     "output_type": "display_data"
    }
   ],
   "source": [
    "sns.boxplot(movies.duration.sort_values())"
   ]
  },
  {
   "cell_type": "markdown",
   "metadata": {},
   "source": [
    "## Intermediate level"
   ]
  },
  {
   "cell_type": "markdown",
   "metadata": {},
   "source": [
    "#### Count how many movies have each of the content ratings."
   ]
  },
  {
   "cell_type": "code",
   "execution_count": 14,
   "metadata": {
    "collapsed": true
   },
   "outputs": [
    {
     "data": {
      "text/plain": [
       "R            460\n",
       "PG-13        189\n",
       "PG           123\n",
       "NOT RATED     65\n",
       "APPROVED      47\n",
       "UNRATED       38\n",
       "G             32\n",
       "PASSED         7\n",
       "NC-17          7\n",
       "X              4\n",
       "GP             3\n",
       "TV-MA          1\n",
       "Name: content_rating, dtype: int64"
      ]
     },
     "execution_count": 14,
     "metadata": {},
     "output_type": "execute_result"
    }
   ],
   "source": [
    "# Answer:\n",
    "movies.content_rating.value_counts()"
   ]
  },
  {
   "cell_type": "code",
   "execution_count": 15,
   "metadata": {},
   "outputs": [
    {
     "data": {
      "text/plain": [
       "star_rating       0\n",
       "title             0\n",
       "content_rating    3\n",
       "genre             0\n",
       "duration          0\n",
       "actors_list       0\n",
       "dtype: int64"
      ]
     },
     "execution_count": 15,
     "metadata": {},
     "output_type": "execute_result"
    }
   ],
   "source": [
    "# 3 nulls\n",
    "movies.isnull().sum()"
   ]
  },
  {
   "cell_type": "markdown",
   "metadata": {},
   "source": [
    "#### Use a visualization to display that same data, including a title and x and y labels."
   ]
  },
  {
   "cell_type": "code",
   "execution_count": 16,
   "metadata": {
    "collapsed": true
   },
   "outputs": [
    {
     "data": {
      "text/plain": [
       "Text(0.5,1,'content ratings')"
      ]
     },
     "execution_count": 16,
     "metadata": {},
     "output_type": "execute_result"
    },
    {
     "data": {
      "image/png": "[encoded data removed]",
      "text/plain": [
       "<Figure size 720x720 with 1 Axes>"
      ]
     },
     "metadata": {
      "needs_background": "light"
     },
     "output_type": "display_data"
    }
   ],
   "source": [
    "# Answer:\n",
    "movies.content_rating.value_counts().plot(kind='bar', figsize=(10,10));\n",
    "plt.xlabel('content_rating')\n",
    "plt.ylabel('numbers')\n",
    "plt.title('content ratings')"
   ]
  },
  {
   "cell_type": "markdown",
   "metadata": {},
   "source": [
    "#### Convert the following content ratings to \"UNRATED\": NOT RATED, APPROVED, PASSED, GP."
   ]
  },
  {
   "cell_type": "code",
   "execution_count": 17,
   "metadata": {
    "collapsed": true
   },
   "outputs": [],
   "source": [
    "# Answer:\n",
    "movies.content_rating.replace(\"NOT RATED\", \"UNRATED\", inplace = True)\n",
    "movies.content_rating.replace(\"APPROVED\", \"UNRATED\", inplace = True)\n",
    "movies.content_rating.replace(\"PASSED\", \"UNRATED\", inplace = True)\n",
    "movies.content_rating.replace(\"GP\", \"UNRATED\", inplace = True)"
   ]
  },
  {
   "cell_type": "markdown",
   "metadata": {},
   "source": [
    "#### Convert the following content ratings to \"NC-17\": X, TV-MA."
   ]
  },
  {
   "cell_type": "code",
   "execution_count": 18,
   "metadata": {
    "collapsed": true
   },
   "outputs": [],
   "source": [
    "# Answer:\n",
    "movies.content_rating.replace(\"X\", \"NC-17\", inplace = True)\n",
    "movies.content_rating.replace(\"TV-MA\", \"NC-17\", inplace = True)"
   ]
  },
  {
   "cell_type": "markdown",
   "metadata": {},
   "source": [
    "#### Count the number of missing values in each column."
   ]
  },
  {
   "cell_type": "code",
   "execution_count": 19,
   "metadata": {
    "collapsed": true
   },
   "outputs": [
    {
     "data": {
      "text/plain": [
       "star_rating       0\n",
       "title             0\n",
       "content_rating    3\n",
       "genre             0\n",
       "duration          0\n",
       "actors_list       0\n",
       "dtype: int64"
      ]
     },
     "execution_count": 19,
     "metadata": {},
     "output_type": "execute_result"
    }
   ],
   "source": [
    "# Answer:\n",
    "movies.isnull().sum()"
   ]
  },
  {
   "cell_type": "markdown",
   "metadata": {},
   "source": [
    "#### If there are missing values: examine them, then fill them in with \"reasonable\" values."
   ]
  },
  {
   "cell_type": "code",
   "execution_count": 20,
   "metadata": {
    "collapsed": true
   },
   "outputs": [],
   "source": [
    "# Answer:\n",
    "movies.content_rating.fillna(value = 'UNRATED', inplace=True)"
   ]
  },
  {
   "cell_type": "code",
   "execution_count": 21,
   "metadata": {},
   "outputs": [
    {
     "data": {
      "text/plain": [
       "star_rating       0\n",
       "title             0\n",
       "content_rating    0\n",
       "genre             0\n",
       "duration          0\n",
       "actors_list       0\n",
       "dtype: int64"
      ]
     },
     "execution_count": 21,
     "metadata": {},
     "output_type": "execute_result"
    }
   ],
   "source": [
    "movies.isnull().sum()"
   ]
  },
  {
   "cell_type": "markdown",
   "metadata": {},
   "source": [
    "#### Calculate the average star rating for movies 2 hours or longer, and compare that with the average star rating for movies shorter than 2 hours."
   ]
  },
  {
   "cell_type": "code",
   "execution_count": 22,
   "metadata": {
    "collapsed": true
   },
   "outputs": [
    {
     "data": {
      "text/plain": [
       "7.948898678414097"
      ]
     },
     "execution_count": 22,
     "metadata": {},
     "output_type": "execute_result"
    }
   ],
   "source": [
    "# Answer: \n",
    "movies[movies.duration >= 120].star_rating.mean()"
   ]
  },
  {
   "cell_type": "code",
   "execution_count": 23,
   "metadata": {},
   "outputs": [
    {
     "data": {
      "text/plain": [
       "7.838666666666665"
      ]
     },
     "execution_count": 23,
     "metadata": {},
     "output_type": "execute_result"
    }
   ],
   "source": [
    "movies[movies.duration < 120].star_rating.mean()"
   ]
  },
  {
   "cell_type": "markdown",
   "metadata": {},
   "source": [
    "#### Use a visualization to detect whether there is a relationship between duration and star rating."
   ]
  },
  {
   "cell_type": "code",
   "execution_count": 24,
   "metadata": {
    "collapsed": true
   },
   "outputs": [
    {
     "data": {
      "text/plain": [
       "<matplotlib.axes._subplots.AxesSubplot at 0x21cf4b07438>"
      ]
     },
     "execution_count": 24,
     "metadata": {},
     "output_type": "execute_result"
    },
    {
     "data": {
      "image/png": "[encoded data removed]",
      "text/plain": [
       "<Figure size 432x288 with 2 Axes>"
      ]
     },
     "metadata": {
      "needs_background": "light"
     },
     "output_type": "display_data"
    }
   ],
   "source": [
    "# Answer:\n",
    "sns.heatmap(movies.corr())"
   ]
  },
  {
   "cell_type": "code",
   "execution_count": 25,
   "metadata": {},
   "outputs": [
    {
     "data": {
      "text/plain": [
       "<matplotlib.collections.PathCollection at 0x21cf68236a0>"
      ]
     },
     "execution_count": 25,
     "metadata": {},
     "output_type": "execute_result"
    },
    {
     "data": {
      "image/png": "[encoded data removed]",
      "text/plain": [
       "<Figure size 432x288 with 1 Axes>"
      ]
     },
     "metadata": {
      "needs_background": "light"
     },
     "output_type": "display_data"
    }
   ],
   "source": [
    "plt.scatter(movies.duration,movies.star_rating)"
   ]
  },
  {
   "cell_type": "markdown",
   "metadata": {},
   "source": [
    "#### Calculate the average duration for each genre."
   ]
  },
  {
   "cell_type": "code",
   "execution_count": 41,
   "metadata": {},
   "outputs": [
    {
     "data": {
      "text/plain": [
       "genre\n",
       "Action       126.485294\n",
       "Adventure    134.840000\n",
       "Animation     96.596774\n",
       "Biography    131.844156\n",
       "Comedy       107.602564\n",
       "Crime        122.298387\n",
       "Drama        126.539568\n",
       "Family       107.500000\n",
       "Fantasy      112.000000\n",
       "Film-Noir     97.333333\n",
       "History       66.000000\n",
       "Horror       102.517241\n",
       "Mystery      115.625000\n",
       "Sci-Fi       109.000000\n",
       "Thriller     114.200000\n",
       "Western      136.666667\n",
       "Name: duration, dtype: float64"
      ]
     },
     "execution_count": 41,
     "metadata": {},
     "output_type": "execute_result"
    }
   ],
   "source": [
    "movies.groupby('genre')['duration'].mean()"
   ]
  },
  {
   "cell_type": "code",
   "execution_count": 26,
   "metadata": {
    "collapsed": true
   },
   "outputs": [
    {
     "name": "stdout",
     "output_type": "stream",
     "text": [
      "Drama: 126.53956834532374\n",
      "Comedy: 107.6025641025641\n",
      "Action: 126.48529411764706\n",
      "Crime: 122.29838709677419\n",
      "Biography: 131.84415584415584\n",
      "Adventure: 134.84\n",
      "Animation: 96.59677419354838\n",
      "Horror: 102.51724137931035\n",
      "Mystery: 115.625\n",
      "Western: 136.66666666666666\n",
      "Sci-Fi: 109.0\n",
      "Thriller: 114.2\n",
      "Film-Noir: 97.33333333333333\n",
      "Family: 107.5\n",
      "History: 66.0\n",
      "Fantasy: 112.0\n"
     ]
    }
   ],
   "source": [
    "# Answer:\n",
    "movies.genre.value_counts()\n",
    "genres = ['Drama','Comedy','Action','Crime','Biography','Adventure','Animation','Horror','Mystery','Western','Sci-Fi','Thriller','Film-Noir','Family','History','Fantasy']\n",
    "for i in genres:\n",
    "    print(i+':',movies[movies['genre'] == i].duration.mean())"
   ]
  },
  {
   "cell_type": "markdown",
   "metadata": {},
   "source": [
    "## Advanced level"
   ]
  },
  {
   "cell_type": "markdown",
   "metadata": {},
   "source": [
    "#### Visualize the relationship between content rating and duration."
   ]
  },
  {
   "cell_type": "code",
   "execution_count": 27,
   "metadata": {
    "collapsed": true
   },
   "outputs": [
    {
     "data": {
      "text/plain": [
       "<matplotlib.axes._subplots.AxesSubplot at 0x21cf6859c50>"
      ]
     },
     "execution_count": 27,
     "metadata": {},
     "output_type": "execute_result"
    },
    {
     "data": {
      "image/png": "[encoded data removed]",
      "text/plain": [
       "<Figure size 432x288 with 1 Axes>"
      ]
     },
     "metadata": {
      "needs_background": "light"
     },
     "output_type": "display_data"
    }
   ],
   "source": [
    "# Answer:\n",
    "sns.boxplot(movies.content_rating,movies.duration)"
   ]
  },
  {
   "cell_type": "markdown",
   "metadata": {},
   "source": [
    "#### Determine the top rated movie (by star rating) for each genre."
   ]
  },
  {
   "cell_type": "code",
   "execution_count": 28,
   "metadata": {
    "collapsed": true
   },
   "outputs": [
    {
     "name": "stdout",
     "output_type": "stream",
     "text": [
      "Drama: 5    12 Angry Men\n",
      "Name: title, dtype: object\n",
      "Comedy: 25    Life Is Beautiful\n",
      "Name: title, dtype: object\n",
      "Action: 3    The Dark Knight\n",
      "Name: title, dtype: object\n",
      "Crime: 0    The Shawshank Redemption\n",
      "Name: title, dtype: object\n",
      "Biography: 8    Schindler's List\n",
      "Name: title, dtype: object\n",
      "Adventure: 7    The Lord of the Rings: The Return of the King\n",
      "Name: title, dtype: object\n",
      "Animation: 30    Spirited Away\n",
      "Name: title, dtype: object\n",
      "Horror: 39    Psycho\n",
      "Name: title, dtype: object\n",
      "Mystery: 38    Rear Window\n",
      "Name: title, dtype: object\n",
      "Western: 6    The Good, the Bad and the Ugly\n",
      "Name: title, dtype: object\n",
      "Sci-Fi: 145    Blade Runner\n",
      "Name: title, dtype: object\n",
      "Thriller: 350    Shadow of a Doubt\n",
      "Name: title, dtype: object\n",
      "Film-Noir: 105    The Third Man\n",
      "Name: title, dtype: object\n",
      "Family: 468    E.T. the Extra-Terrestrial\n",
      "Name: title, dtype: object\n",
      "History: 338    Battleship Potemkin\n",
      "Name: title, dtype: object\n",
      "Fantasy: 638    The City of Lost Children\n",
      "Name: title, dtype: object\n"
     ]
    }
   ],
   "source": [
    "# Answer:\n",
    "for i in genres:\n",
    "    print(i+':',movies.loc[movies[movies['genre'] == i].star_rating.sort_values(ascending = False).head(1).index]['title'])\n"
   ]
  },
  {
   "cell_type": "markdown",
   "metadata": {},
   "source": [
    "#### Check if there are multiple movies with the same title, and if so, determine if they are actually duplicates."
   ]
  },
  {
   "cell_type": "code",
   "execution_count": 59,
   "metadata": {
    "collapsed": true
   },
   "outputs": [
    {
     "data": {
      "text/plain": [
       "482    The Girl with the Dragon Tattoo\n",
       "905                            Dracula\n",
       "924                     Les Miserables\n",
       "936                          True Grit\n",
       "Name: title, dtype: object"
      ]
     },
     "execution_count": 59,
     "metadata": {},
     "output_type": "execute_result"
    }
   ],
   "source": [
    "# Answer:\n",
    "movies[movies.title.duplicated()].title"
   ]
  },
  {
   "cell_type": "markdown",
   "metadata": {},
   "source": [
    "#### Calculate the average star rating for each genre, but only include genres with at least 10 movies\n"
   ]
  },
  {
   "cell_type": "markdown",
   "metadata": {},
   "source": [
    "#### Option 1: manually create a list of relevant genres, then filter using that list"
   ]
  },
  {
   "cell_type": "code",
   "execution_count": 30,
   "metadata": {},
   "outputs": [
    {
     "data": {
      "text/plain": [
       "Drama        278\n",
       "Comedy       156\n",
       "Action       136\n",
       "Crime        124\n",
       "Biography     77\n",
       "Adventure     75\n",
       "Animation     62\n",
       "Horror        29\n",
       "Mystery       16\n",
       "Western        9\n",
       "Sci-Fi         5\n",
       "Thriller       5\n",
       "Film-Noir      3\n",
       "Family         2\n",
       "History        1\n",
       "Fantasy        1\n",
       "Name: genre, dtype: int64"
      ]
     },
     "execution_count": 30,
     "metadata": {},
     "output_type": "execute_result"
    }
   ],
   "source": [
    "movies.genre.value_counts()"
   ]
  },
  {
   "cell_type": "code",
   "execution_count": 31,
   "metadata": {
    "collapsed": true
   },
   "outputs": [
    {
     "name": "stdout",
     "output_type": "stream",
     "text": [
      "Drama: 7.902517985611511\n",
      "Comedy: 7.822435897435897\n",
      "Action: 7.884558823529411\n",
      "Crime: 7.916935483870966\n",
      "Biography: 7.86233766233766\n",
      "Adventure: 7.933333333333334\n",
      "Animation: 7.914516129032257\n",
      "Horror: 7.806896551724138\n",
      "Mystery: 7.975\n"
     ]
    }
   ],
   "source": [
    "# Answer:\n",
    "genres = ['Drama','Comedy','Action','Crime','Biography','Adventure','Animation','Horror','Mystery']\n",
    "for i in genres:\n",
    "    print(i+':',movies[movies['genre'] == i].star_rating.mean())"
   ]
  },
  {
   "cell_type": "markdown",
   "metadata": {},
   "source": [
    "#### Option 2: automatically create a list of relevant genres by saving the value_counts and then filtering"
   ]
  },
  {
   "cell_type": "code",
   "execution_count": 33,
   "metadata": {
    "collapsed": true
   },
   "outputs": [
    {
     "name": "stdout",
     "output_type": "stream",
     "text": [
      "Drama: 7.902517985611511\n",
      "Comedy: 7.822435897435897\n",
      "Action: 7.884558823529411\n",
      "Crime: 7.916935483870966\n",
      "Biography: 7.86233766233766\n",
      "Adventure: 7.933333333333334\n",
      "Animation: 7.914516129032257\n",
      "Horror: 7.806896551724138\n",
      "Mystery: 7.975\n"
     ]
    }
   ],
   "source": [
    "# Answer:\n",
    "genres_auto = []\n",
    "count = 0\n",
    "for i in movies.genre.value_counts().index: # filtering the list\n",
    "    if movies.genre.value_counts().values[count] < 10: # if the number of movie with specific genre less than 10, ignores it\n",
    "        pass\n",
    "    else:\n",
    "        genres_auto.append(i)\n",
    "    count+=1\n",
    "        \n",
    "for i in genres_auto: # get means of filtered list\n",
    "    print(i+':',movies[movies['genre'] == i].star_rating.mean())"
   ]
  },
  {
   "cell_type": "markdown",
   "metadata": {},
   "source": [
    "#### Option 3: calculate the average star rating for all genres, then filter using a boolean Series"
   ]
  },
  {
   "cell_type": "code",
   "execution_count": 39,
   "metadata": {
    "collapsed": true
   },
   "outputs": [],
   "source": [
    "# Answer: ??"
   ]
  },
  {
   "cell_type": "markdown",
   "metadata": {},
   "source": [
    "#### Option 4: aggregate by count and mean, then filter using the count"
   ]
  },
  {
   "cell_type": "code",
   "execution_count": 40,
   "metadata": {
    "collapsed": true
   },
   "outputs": [],
   "source": [
    "# Answer: ??\n"
   ]
  },
  {
   "cell_type": "markdown",
   "metadata": {},
   "source": [
    "## Bonus"
   ]
  },
  {
   "cell_type": "markdown",
   "metadata": {},
   "source": [
    "#### Figure out something \"interesting\" using the actors data!"
   ]
  },
  {
   "cell_type": "code",
   "execution_count": 36,
   "metadata": {
    "collapsed": true
   },
   "outputs": [
    {
     "data": {
      "text/plain": [
       "[u'Daniel Radcliffe', u'Emma Watson', u'Rupert Grint']                   6\n",
       "[u'Mark Hamill', u'Harrison Ford', u'Carrie Fisher']                     3\n",
       "[u'Tom Hanks', u'Tim Allen', u'Joan Cusack']                             2\n",
       "[u'Ian McKellen', u'Martin Freeman', u'Richard Armitage']                2\n",
       "[u'Michael J. Fox', u'Christopher Lloyd', u'Lea Thompson']               2\n",
       "[u'Humphrey Bogart', u'Ingrid Bergman', u'Paul Henreid']                 1\n",
       "[u'Susan Sarandon', u'Sean Penn', u'Robert Prosky']                      1\n",
       "[u'Tim Robbins', u'Morgan Freeman', u'Bob Gunton']                       1\n",
       "[u'Johnny Depp', u'Kate Winslet', u'Julie Christie']                     1\n",
       "[u'Asa Butterfield', u'David Thewlis', u'Rupert Friend']                 1\n",
       "[u'Kang-ho Song', u'Ha-kyun Shin', u'Doona Bae']                         1\n",
       "[u'Denzel Washington', u'Russell Crowe', u'Chiwetel Ejiofor']            1\n",
       "[u'Riisa Naka', u'Takuya Ishida', u'Mitsutaka Itakura']                  1\n",
       "[u'Ben Whishaw', u'Dustin Hoffman', u'Alan Rickman']                     1\n",
       "[u'Ellar Coltrane', u'Patricia Arquette', u'Ethan Hawke']                1\n",
       "[u'Moritz Bleibtreu', u'Christian Berkel', u'Oliver Stokowski']          1\n",
       "[u'Leonardo DiCaprio', u'Cameron Diaz', u'Daniel Day-Lewis']             1\n",
       "[u'Sandra Bullock', u'George Clooney', u'Ed Harris']                     1\n",
       "[u'Yul Brynner', u'Steve McQueen', u'Charles Bronson']                   1\n",
       "[u'Mich\\xe8le Caucheteux', u'Jean-Claude Donda', u'Michel Robin']        1\n",
       "[u'Beau Billingslea', u'Melissa Fahn', u'Nicholas Guest']                1\n",
       "[u'Jake Gyllenhaal', u'Rene Russo', u'Bill Paxton']                      1\n",
       "[u'William H. Macy', u'Frances McDormand', u'Steve Buscemi']             1\n",
       "[u'Tom Hanks', u'Barkhad Abdi', u'Barkhad Abdirahman']                   1\n",
       "[u'Anthony Perkins', u'Janet Leigh', u'Vera Miles']                      1\n",
       "[u'Sean Gullette', u'Mark Margolis', u'Ben Shenkman']                    1\n",
       "[u'Denzel Washington', u'Angela Bassett', u'Delroy Lindo']               1\n",
       "[u'Tobey Maguire', u'Charlize Theron', u'Michael Caine']                 1\n",
       "[u'Antonio Banderas', u'Elena Anaya', u'Jan Cornet']                     1\n",
       "[u'Bradley Cooper', u'Anna Friel', u'Abbie Cornish']                     1\n",
       "                                                                        ..\n",
       "[u'Tom Cruise', u'Jamie Foxx', u'Jada Pinkett Smith']                    1\n",
       "[u'Russell Crowe', u'Ren\\xe9e Zellweger', u'Craig Bierko']               1\n",
       "[u'J\\xfcrgen Prochnow', u'Herbert Gr\\xf6nemeyer', u'Klaus Wennemann']    1\n",
       "[u'Marlon Brando', u'Al Pacino', u'James Caan']                          1\n",
       "[u'Jim Caviezel', u'Guy Pearce', u'Richard Harris']                      1\n",
       "[u'Ethan Hawke', u'Julie Delpy', u'Andrea Eckert']                       1\n",
       "[u'Tom Hardy', u'Nick Nolte', u'Joel Edgerton']                          1\n",
       "[u'Oksana Akinshina', u'Artyom Bogucharskiy', u'Pavel Ponomaryov']       1\n",
       "[u'Heather Langenkamp', u'Johnny Depp', u'Robert Englund']               1\n",
       "[u'Humphrey Bogart', u'Lauren Bacall', u'John Ridgely']                  1\n",
       "[u'Daniel Craig', u'Eva Green', u'Judi Dench']                           1\n",
       "[u'Hilary Swank', u'Chlo\\xeb Sevigny', u'Peter Sarsgaard']               1\n",
       "[u'Rob Reiner', u'Michael McKean', u'Christopher Guest']                 1\n",
       "[u'Haley Joel Osment', u'Michael Caine', u'Robert Duvall']               1\n",
       "[u'Bel\\xe9n Rueda', u'Fernando Cayo', u'Roger Pr\\xedncep']               1\n",
       "[u'Joe Pesci', u'Marisa Tomei', u'Ralph Macchio']                        1\n",
       "[u'Hilary Swank', u'Clint Eastwood', u'Morgan Freeman']                  1\n",
       "[u'Natalya Bondarchuk', u'Donatas Banionis', u'J\\xfcri J\\xe4rvet']       1\n",
       "[u'Clint Eastwood', u'Bee Vang', u'Christopher Carley']                  1\n",
       "[u'Charlton Heston', u'Yul Brynner', u'Anne Baxter']                     1\n",
       "[u'Brad Pitt', u'Tom Cruise', u'Antonio Banderas']                       1\n",
       "[u'Leonardo DiCaprio', u'Jonah Hill', u'Margot Robbie']                  1\n",
       "[u'Sean Connery', u'Alec Baldwin', u'Scott Glenn']                       1\n",
       "[u'Christian Friedel', u'Ernst Jacobi', u'Leonie Benesch']               1\n",
       "[u'Marisa Paredes', u'Eduardo Noriega', u'Federico Luppi']               1\n",
       "[u'F. Murray Abraham', u'Tom Hulce', u'Elizabeth Berridge']              1\n",
       "[u'Kevin McCarthy', u'Dana Wynter', u'Larry Gates']                      1\n",
       "[u'Jack Nance', u'Charlotte Stewart', u'Allen Joseph']                   1\n",
       "[u'Kurt Russell', u'Wilford Brimley', u'Keith David']                    1\n",
       "[u'Cleavon Little', u'Gene Wilder', u'Slim Pickens']                     1\n",
       "Name: actors_list, Length: 969, dtype: int64"
      ]
     },
     "execution_count": 36,
     "metadata": {},
     "output_type": "execute_result"
    }
   ],
   "source": [
    "movies.actors_list.value_counts()"
   ]
  }
 ],
 "metadata": {
  "kernelspec": {
   "display_name": "Python 3",
   "language": "python",
   "name": "python3"
  },
  "language_info": {
   "codemirror_mode": {
    "name": "ipython",
    "version": 3
   },
   "file_extension": ".py",
   "mimetype": "text/x-python",
   "name": "python",
   "nbconvert_exporter": "python",
   "pygments_lexer": "ipython3",
   "version": "3.6.7"
  }
 },
 "nbformat": 4,
 "nbformat_minor": 2
}
